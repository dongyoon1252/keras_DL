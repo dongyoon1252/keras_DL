{
 "cells": [
  {
   "cell_type": "code",
   "execution_count": 1,
   "metadata": {},
   "outputs": [
    {
     "name": "stderr",
     "output_type": "stream",
     "text": [
      "Using TensorFlow backend.\n"
     ]
    }
   ],
   "source": [
    "from keras.datasets import reuters\n",
    "\n",
    "(train_data, train_labels), (test_data, test_labels) = reuters.load_data(num_words=10000)"
   ]
  },
  {
   "cell_type": "code",
   "execution_count": 2,
   "metadata": {},
   "outputs": [
    {
     "data": {
      "text/plain": [
       "8982"
      ]
     },
     "execution_count": 2,
     "metadata": {},
     "output_type": "execute_result"
    }
   ],
   "source": [
    "len(train_data)"
   ]
  },
  {
   "cell_type": "code",
   "execution_count": 3,
   "metadata": {},
   "outputs": [
    {
     "data": {
      "text/plain": [
       "2246"
      ]
     },
     "execution_count": 3,
     "metadata": {},
     "output_type": "execute_result"
    }
   ],
   "source": [
    "len(test_data)"
   ]
  },
  {
   "cell_type": "code",
   "execution_count": 4,
   "metadata": {},
   "outputs": [
    {
     "data": {
      "text/plain": [
       "[1,\n",
       " 2,\n",
       " 2,\n",
       " 8,\n",
       " 43,\n",
       " 10,\n",
       " 447,\n",
       " 5,\n",
       " 25,\n",
       " 207,\n",
       " 270,\n",
       " 5,\n",
       " 3095,\n",
       " 111,\n",
       " 16,\n",
       " 369,\n",
       " 186,\n",
       " 90,\n",
       " 67,\n",
       " 7,\n",
       " 89,\n",
       " 5,\n",
       " 19,\n",
       " 102,\n",
       " 6,\n",
       " 19,\n",
       " 124,\n",
       " 15,\n",
       " 90,\n",
       " 67,\n",
       " 84,\n",
       " 22,\n",
       " 482,\n",
       " 26,\n",
       " 7,\n",
       " 48,\n",
       " 4,\n",
       " 49,\n",
       " 8,\n",
       " 864,\n",
       " 39,\n",
       " 209,\n",
       " 154,\n",
       " 6,\n",
       " 151,\n",
       " 6,\n",
       " 83,\n",
       " 11,\n",
       " 15,\n",
       " 22,\n",
       " 155,\n",
       " 11,\n",
       " 15,\n",
       " 7,\n",
       " 48,\n",
       " 9,\n",
       " 4579,\n",
       " 1005,\n",
       " 504,\n",
       " 6,\n",
       " 258,\n",
       " 6,\n",
       " 272,\n",
       " 11,\n",
       " 15,\n",
       " 22,\n",
       " 134,\n",
       " 44,\n",
       " 11,\n",
       " 15,\n",
       " 16,\n",
       " 8,\n",
       " 197,\n",
       " 1245,\n",
       " 90,\n",
       " 67,\n",
       " 52,\n",
       " 29,\n",
       " 209,\n",
       " 30,\n",
       " 32,\n",
       " 132,\n",
       " 6,\n",
       " 109,\n",
       " 15,\n",
       " 17,\n",
       " 12]"
      ]
     },
     "execution_count": 4,
     "metadata": {},
     "output_type": "execute_result"
    }
   ],
   "source": [
    "train_data[0]"
   ]
  },
  {
   "cell_type": "code",
   "execution_count": 5,
   "metadata": {},
   "outputs": [
    {
     "name": "stdout",
     "output_type": "stream",
     "text": [
      "Downloading data from https://s3.amazonaws.com/text-datasets/reuters_word_index.json\n",
      "557056/550378 [==============================] - 1s 2us/step\n"
     ]
    }
   ],
   "source": [
    "word_index=reuters.get_word_index()\n",
    "reverse_word_index=dict([(value, key) for (key, value) in word_index.items()])\n",
    "decoded_newswire = ' '.join([reverse_word_index.get(i -3, '?')for i in train_data[0]])"
   ]
  },
  {
   "cell_type": "code",
   "execution_count": 6,
   "metadata": {},
   "outputs": [
    {
     "data": {
      "text/plain": [
       "[1,\n",
       " 245,\n",
       " 273,\n",
       " 207,\n",
       " 156,\n",
       " 53,\n",
       " 74,\n",
       " 160,\n",
       " 26,\n",
       " 14,\n",
       " 46,\n",
       " 296,\n",
       " 26,\n",
       " 39,\n",
       " 74,\n",
       " 2979,\n",
       " 3554,\n",
       " 14,\n",
       " 46,\n",
       " 4689,\n",
       " 4329,\n",
       " 86,\n",
       " 61,\n",
       " 3499,\n",
       " 4795,\n",
       " 14,\n",
       " 61,\n",
       " 451,\n",
       " 4329,\n",
       " 17,\n",
       " 12]"
      ]
     },
     "execution_count": 6,
     "metadata": {},
     "output_type": "execute_result"
    }
   ],
   "source": [
    "train_data[10]"
   ]
  },
  {
   "cell_type": "code",
   "execution_count": 7,
   "metadata": {},
   "outputs": [
    {
     "data": {
      "text/plain": [
       "3"
      ]
     },
     "execution_count": 7,
     "metadata": {},
     "output_type": "execute_result"
    }
   ],
   "source": [
    "train_labels[10]"
   ]
  },
  {
   "cell_type": "code",
   "execution_count": 8,
   "metadata": {},
   "outputs": [],
   "source": [
    "import numpy as np"
   ]
  },
  {
   "cell_type": "code",
   "execution_count": 15,
   "metadata": {},
   "outputs": [],
   "source": [
    "def vectorize_sequences(sequences, dimension=10000):\n",
    "    results=np.zeros((len(sequences), dimension))\n",
    "    for i, sequence in enumerate(sequences):\n",
    "        results[i, sequence]=1.\n",
    "        return results"
   ]
  },
  {
   "cell_type": "code",
   "execution_count": 16,
   "metadata": {},
   "outputs": [],
   "source": [
    "x_train = vectorize_sequences(train_data)\n",
    "x_test = vectorize_sequences(test_data)"
   ]
  },
  {
   "cell_type": "code",
   "execution_count": 17,
   "metadata": {},
   "outputs": [],
   "source": [
    "def to_one_hot(labels, dimension=46):\n",
    "    results=np.zeros((len(labels), dimension))\n",
    "    for i, label in enumerate(labels):\n",
    "        results[i, label]=1.\n",
    "        return results"
   ]
  },
  {
   "cell_type": "code",
   "execution_count": 31,
   "metadata": {},
   "outputs": [],
   "source": [
    "one_hot_train_labels = to_one_hot(train_labels)\n",
    "one_hot_test_labels = to_one_hot(test_labels)"
   ]
  },
  {
   "cell_type": "code",
   "execution_count": 32,
   "metadata": {},
   "outputs": [],
   "source": [
    "from keras.utils.np_utils import to_categorical"
   ]
  },
  {
   "cell_type": "code",
   "execution_count": 39,
   "metadata": {},
   "outputs": [],
   "source": [
    "one_hot_train_labels = to_categorical(train_labels)\n",
    "one_hot_test_labels = to_categorical(test_labels)"
   ]
  },
  {
   "cell_type": "code",
   "execution_count": 40,
   "metadata": {},
   "outputs": [],
   "source": [
    "from keras import models"
   ]
  },
  {
   "cell_type": "code",
   "execution_count": 41,
   "metadata": {},
   "outputs": [],
   "source": [
    "from keras import layers"
   ]
  },
  {
   "cell_type": "code",
   "execution_count": 42,
   "metadata": {},
   "outputs": [],
   "source": [
    "model = models.Sequential()\n",
    "model.add(layers.Dense(64, activation='relu', input_shape=(10000,)))\n",
    "model.add(layers.Dense(64, activation='relu'))\n",
    "model.add(layers.Dense(46, activation='softmax'))"
   ]
  },
  {
   "cell_type": "code",
   "execution_count": 43,
   "metadata": {},
   "outputs": [],
   "source": [
    "model.compile(optimizer='rmsprop',\n",
    "             loss='categorical_crossentropy',\n",
    "             metrics=['accuracy'])"
   ]
  },
  {
   "cell_type": "code",
   "execution_count": 44,
   "metadata": {},
   "outputs": [],
   "source": [
    "x_val=x_train[:1000]\n",
    "partial_x_train=x_train[1000:]\n",
    "\n",
    "y_val=one_hot_train_labels[:1000]\n",
    "partial_y_train=one_hot_train_labels[1000:]"
   ]
  },
  {
   "cell_type": "code",
   "execution_count": 45,
   "metadata": {},
   "outputs": [
    {
     "name": "stderr",
     "output_type": "stream",
     "text": [
      "W0729 19:58:57.597139  3640 deprecation.py:323] From C:\\Users\\junmin\\Anaconda3\\lib\\site-packages\\tensorflow\\python\\ops\\math_grad.py:1250: add_dispatch_support.<locals>.wrapper (from tensorflow.python.ops.array_ops) is deprecated and will be removed in a future version.\n",
      "Instructions for updating:\n",
      "Use tf.where in 2.0, which has the same broadcast rule as np.where\n",
      "W0729 19:58:57.685902  3640 deprecation_wrapper.py:119] From C:\\Users\\junmin\\Anaconda3\\lib\\site-packages\\keras\\backend\\tensorflow_backend.py:986: The name tf.assign_add is deprecated. Please use tf.compat.v1.assign_add instead.\n",
      "\n"
     ]
    },
    {
     "name": "stdout",
     "output_type": "stream",
     "text": [
      "Train on 7982 samples, validate on 1000 samples\n",
      "Epoch 1/20\n",
      "7982/7982 [==============================] - 2s 230us/step - loss: 3.8120 - acc: 0.0922 - val_loss: 3.7979 - val_acc: 0.2230\n",
      "Epoch 2/20\n",
      "7982/7982 [==============================] - 1s 145us/step - loss: 3.7882 - acc: 0.2211 - val_loss: 3.7770 - val_acc: 0.2230\n",
      "Epoch 3/20\n",
      "7982/7982 [==============================] - 1s 143us/step - loss: 3.7678 - acc: 0.2164 - val_loss: 3.7570 - val_acc: 0.2230\n",
      "Epoch 4/20\n",
      "7982/7982 [==============================] - 1s 138us/step - loss: 3.7478 - acc: 0.2224 - val_loss: 3.7373 - val_acc: 0.2230\n",
      "Epoch 5/20\n",
      "7982/7982 [==============================] - 1s 142us/step - loss: 3.7281 - acc: 0.3091 - val_loss: 3.7178 - val_acc: 0.2230\n",
      "Epoch 6/20\n",
      "7982/7982 [==============================] - 1s 136us/step - loss: 3.7085 - acc: 0.2458 - val_loss: 3.6983 - val_acc: 0.2230\n",
      "Epoch 7/20\n",
      "7982/7982 [==============================] - 1s 134us/step - loss: 3.6891 - acc: 0.2801 - val_loss: 3.6790 - val_acc: 0.2230\n",
      "Epoch 8/20\n",
      "7982/7982 [==============================] - 1s 135us/step - loss: 3.6698 - acc: 0.2665 - val_loss: 3.6598 - val_acc: 0.3540\n",
      "Epoch 9/20\n",
      "7982/7982 [==============================] - 1s 136us/step - loss: 3.6506 - acc: 0.3514 - val_loss: 3.6408 - val_acc: 0.3540\n",
      "Epoch 10/20\n",
      "7982/7982 [==============================] - 1s 134us/step - loss: 3.6316 - acc: 0.3514 - val_loss: 3.6219 - val_acc: 0.3540\n",
      "Epoch 11/20\n",
      "7982/7982 [==============================] - 1s 136us/step - loss: 3.6127 - acc: 0.2730 - val_loss: 3.6032 - val_acc: 0.3540\n",
      "Epoch 12/20\n",
      "7982/7982 [==============================] - 1s 135us/step - loss: 3.5941 - acc: 0.3514 - val_loss: 3.5846 - val_acc: 0.3540\n",
      "Epoch 13/20\n",
      "7982/7982 [==============================] - 1s 135us/step - loss: 3.5755 - acc: 0.3514 - val_loss: 3.5662 - val_acc: 0.3540\n",
      "Epoch 14/20\n",
      "7982/7982 [==============================] - 1s 135us/step - loss: 3.5571 - acc: 0.3340 - val_loss: 3.5479 - val_acc: 0.3540\n",
      "Epoch 15/20\n",
      "7982/7982 [==============================] - 1s 135us/step - loss: 3.5388 - acc: 0.3514 - val_loss: 3.5297 - val_acc: 0.3540\n",
      "Epoch 16/20\n",
      "7982/7982 [==============================] - 1s 134us/step - loss: 3.5207 - acc: 0.3394 - val_loss: 3.5117 - val_acc: 0.3540\n",
      "Epoch 17/20\n",
      "7982/7982 [==============================] - 1s 132us/step - loss: 3.5028 - acc: 0.3514 - val_loss: 3.4940 - val_acc: 0.3540\n",
      "Epoch 18/20\n",
      "7982/7982 [==============================] - 1s 137us/step - loss: 3.4851 - acc: 0.3514 - val_loss: 3.4763 - val_acc: 0.3540\n",
      "Epoch 19/20\n",
      "7982/7982 [==============================] - 1s 136us/step - loss: 3.4675 - acc: 0.3514 - val_loss: 3.4588 - val_acc: 0.3540\n",
      "Epoch 20/20\n",
      "7982/7982 [==============================] - 1s 140us/step - loss: 3.4501 - acc: 0.3514 - val_loss: 3.4416 - val_acc: 0.3540\n"
     ]
    }
   ],
   "source": [
    "history = model.fit(partial_x_train,\n",
    "                   partial_y_train,\n",
    "                   epochs=20,\n",
    "                   batch_size=512,\n",
    "                   validation_data=(x_val, y_val))"
   ]
  },
  {
   "cell_type": "code",
   "execution_count": 46,
   "metadata": {},
   "outputs": [],
   "source": [
    " import matplotlib.pyplot as plt"
   ]
  },
  {
   "cell_type": "code",
   "execution_count": 47,
   "metadata": {},
   "outputs": [
    {
     "data": {
      "image/png": "[encoded data removed]",
      "text/plain": [
       "<Figure size 432x288 with 1 Axes>"
      ]
     },
     "metadata": {
      "needs_background": "light"
     },
     "output_type": "display_data"
    }
   ],
   "source": [
    "loss = history.history['loss']\n",
    "val_loss = history.history['val_loss']\n",
    "\n",
    "epochs=range(1, len(loss) + 1)\n",
    "\n",
    "plt.plot(epochs, loss, 'bo', label='Training loss')\n",
    "plt.plot(epochs, val_loss, 'b', label='Validation loss')\n",
    "plt.title('Training and validation loss')\n",
    "plt.xlabel('Epochs')\n",
    "plt.ylabel('Loss')\n",
    "plt.legend()\n",
    "\n",
    "plt.show()"
   ]
  },
  {
   "cell_type": "code",
   "execution_count": 48,
   "metadata": {},
   "outputs": [
    {
     "data": {
      "text/plain": [
       "<Figure size 432x288 with 0 Axes>"
      ]
     },
     "metadata": {},
     "output_type": "display_data"
    }
   ],
   "source": [
    "plt.clf()"
   ]
  },
  {
   "cell_type": "code",
   "execution_count": 49,
   "metadata": {},
   "outputs": [],
   "source": [
    "acc = history.history['acc']"
   ]
  },
  {
   "cell_type": "code",
   "execution_count": 50,
   "metadata": {},
   "outputs": [
    {
     "data": {
      "image/png": "[encoded data removed]",
      "text/plain": [
       "<Figure size 432x288 with 1 Axes>"
      ]
     },
     "metadata": {
      "needs_background": "light"
     },
     "output_type": "display_data"
    }
   ],
   "source": [
    "val_acc = history.history['val_acc']\n",
    "\n",
    "plt.plot(epochs, acc, 'bo', label='Training acc')\n",
    "plt.plot(epochs, val_acc, 'b', label='Validation acc')\n",
    "plt.title('Training and validation accuracy')\n",
    "plt.xlabel('Epochs')\n",
    "plt.ylabel('Accuracy')\n",
    "plt.legend()\n",
    "\n",
    "plt.show()"
   ]
  },
  {
   "cell_type": "code",
   "execution_count": 52,
   "metadata": {},
   "outputs": [
    {
     "name": "stdout",
     "output_type": "stream",
     "text": [
      "Train on 7982 samples, validate on 1000 samples\n",
      "Epoch 1/9\n",
      "7982/7982 [==============================] - 2s 189us/step - loss: 3.8120 - acc: 0.1641 - val_loss: 3.7982 - val_acc: 0.3530\n",
      "Epoch 2/9\n",
      "7982/7982 [==============================] - 1s 145us/step - loss: 3.7882 - acc: 0.2969 - val_loss: 3.7772 - val_acc: 0.2220\n",
      "Epoch 3/9\n",
      "7982/7982 [==============================] - 1s 138us/step - loss: 3.7677 - acc: 0.3146 - val_loss: 3.7572 - val_acc: 0.2220\n",
      "Epoch 4/9\n",
      "7982/7982 [==============================] - 1s 135us/step - loss: 3.7478 - acc: 0.2746 - val_loss: 3.7374 - val_acc: 0.3530\n",
      "Epoch 5/9\n",
      "7982/7982 [==============================] - 1s 135us/step - loss: 3.7281 - acc: 0.3393 - val_loss: 3.7179 - val_acc: 0.3530\n",
      "Epoch 6/9\n",
      "7982/7982 [==============================] - 1s 133us/step - loss: 3.7085 - acc: 0.3294 - val_loss: 3.6984 - val_acc: 0.3530\n",
      "Epoch 7/9\n",
      "7982/7982 [==============================] - 1s 133us/step - loss: 3.6891 - acc: 0.3514 - val_loss: 3.6792 - val_acc: 0.3530\n",
      "Epoch 8/9\n",
      "7982/7982 [==============================] - 1s 135us/step - loss: 3.6698 - acc: 0.3514 - val_loss: 3.6601 - val_acc: 0.3530\n",
      "Epoch 9/9\n",
      "7982/7982 [==============================] - 1s 135us/step - loss: 3.6507 - acc: 0.3401 - val_loss: 3.6411 - val_acc: 0.3530\n",
      "2246/2246 [==============================] - 0s 169us/step\n"
     ]
    }
   ],
   "source": [
    "model = models.Sequential()\n",
    "model.add(layers.Dense(64, activation='relu', input_shape=(10000,)))\n",
    "model.add(layers.Dense(64, activation='relu'))\n",
    "model.add(layers.Dense(46, activation='softmax'))\n",
    "\n",
    "model.compile(optimizer='rmsprop',\n",
    "             loss='categorical_crossentropy',\n",
    "             metrics=['accuracy'])\n",
    "model.fit(partial_x_train,\n",
    "         partial_y_train,\n",
    "         epochs=9,\n",
    "         batch_size=512,\n",
    "         validation_data=(x_val, y_val))\n",
    "\n",
    "results=model.evaluate(x_test, one_hot_test_labels)"
   ]
  },
  {
   "cell_type": "code",
   "execution_count": 53,
   "metadata": {},
   "outputs": [
    {
     "data": {
      "text/plain": [
       "[3.6433225992207854, 0.36197684778237277]"
      ]
     },
     "execution_count": 53,
     "metadata": {},
     "output_type": "execute_result"
    }
   ],
   "source": [
    "results"
   ]
  },
  {
   "cell_type": "code",
   "execution_count": 54,
   "metadata": {},
   "outputs": [],
   "source": [
    "import copy"
   ]
  },
  {
   "cell_type": "code",
   "execution_count": 55,
   "metadata": {},
   "outputs": [],
   "source": [
    "test_labels_copy = copy.copy(test_labels)"
   ]
  },
  {
   "cell_type": "code",
   "execution_count": 56,
   "metadata": {},
   "outputs": [],
   "source": [
    "np.random.shuffle(test_labels_copy)"
   ]
  },
  {
   "cell_type": "code",
   "execution_count": 57,
   "metadata": {},
   "outputs": [],
   "source": [
    "hits_array = np.array(test_labels) == np.array(test_labels_copy)"
   ]
  },
  {
   "cell_type": "code",
   "execution_count": 58,
   "metadata": {},
   "outputs": [
    {
     "data": {
      "text/plain": [
       "0.182546749777382"
      ]
     },
     "execution_count": 58,
     "metadata": {},
     "output_type": "execute_result"
    }
   ],
   "source": [
    "float(np.sum(hits_array)) / len(test_labels)"
   ]
  },
  {
   "cell_type": "code",
   "execution_count": 59,
   "metadata": {},
   "outputs": [],
   "source": [
    "predictions = model.predict(x_test)"
   ]
  },
  {
   "cell_type": "code",
   "execution_count": 60,
   "metadata": {},
   "outputs": [
    {
     "data": {
      "text/plain": [
       "(46,)"
      ]
     },
     "execution_count": 60,
     "metadata": {},
     "output_type": "execute_result"
    }
   ],
   "source": [
    "predictions[0].shape"
   ]
  },
  {
   "cell_type": "code",
   "execution_count": 61,
   "metadata": {},
   "outputs": [
    {
     "data": {
      "text/plain": [
       "1.0"
      ]
     },
     "execution_count": 61,
     "metadata": {},
     "output_type": "execute_result"
    }
   ],
   "source": [
    "np.sum(predictions[0])"
   ]
  },
  {
   "cell_type": "code",
   "execution_count": 62,
   "metadata": {},
   "outputs": [
    {
     "data": {
      "text/plain": [
       "3"
      ]
     },
     "execution_count": 62,
     "metadata": {},
     "output_type": "execute_result"
    }
   ],
   "source": [
    "np.argmax(predictions[0])"
   ]
  },
  {
   "cell_type": "code",
   "execution_count": 63,
   "metadata": {},
   "outputs": [],
   "source": [
    "y_train = np.array(train_labels)\n",
    "y_test = np.array(test_labels)"
   ]
  },
  {
   "cell_type": "code",
   "execution_count": 64,
   "metadata": {},
   "outputs": [],
   "source": [
    "model.compile(optimizer = 'rmsprop',\n",
    "             loss = 'sparse_categorical_crossentropy',\n",
    "             metrics=['acc'])"
   ]
  },
  {
   "cell_type": "code",
   "execution_count": 65,
   "metadata": {},
   "outputs": [
    {
     "name": "stdout",
     "output_type": "stream",
     "text": [
      "Train on 7982 samples, validate on 1000 samples\n",
      "Epoch 1/20\n",
      "7982/7982 [==============================] - 2s 271us/step - loss: 3.7812 - acc: 0.1550 - val_loss: 3.7413 - val_acc: 0.3530\n",
      "Epoch 2/20\n",
      "7982/7982 [==============================] - 2s 191us/step - loss: 3.7055 - acc: 0.3242 - val_loss: 3.6679 - val_acc: 0.3530\n",
      "Epoch 3/20\n",
      "7982/7982 [==============================] - 2s 188us/step - loss: 3.6325 - acc: 0.3482 - val_loss: 3.5961 - val_acc: 0.3540\n",
      "Epoch 4/20\n",
      "7982/7982 [==============================] - 1s 186us/step - loss: 3.5619 - acc: 0.3514 - val_loss: 3.5265 - val_acc: 0.3540\n",
      "Epoch 5/20\n",
      "7982/7982 [==============================] - 1s 186us/step - loss: 3.4935 - acc: 0.3514 - val_loss: 3.4591 - val_acc: 0.3540\n",
      "Epoch 6/20\n",
      "7982/7982 [==============================] - 2s 192us/step - loss: 3.4276 - acc: 0.3514 - val_loss: 3.3941 - val_acc: 0.3540\n",
      "Epoch 7/20\n",
      "7982/7982 [==============================] - 2s 193us/step - loss: 3.3633 - acc: 0.3514 - val_loss: 3.3309 - val_acc: 0.3540\n",
      "Epoch 8/20\n",
      "7982/7982 [==============================] - 2s 192us/step - loss: 3.3015 - acc: 0.3514 - val_loss: 3.2700 - val_acc: 0.3540\n",
      "Epoch 9/20\n",
      "7982/7982 [==============================] - 2s 193us/step - loss: 3.2418 - acc: 0.3514 - val_loss: 3.2110 - val_acc: 0.3540\n",
      "Epoch 10/20\n",
      "7982/7982 [==============================] - 2s 192us/step - loss: 3.1845 - acc: 0.3514 - val_loss: 3.1544 - val_acc: 0.3540\n",
      "Epoch 11/20\n",
      "7982/7982 [==============================] - 1s 188us/step - loss: 3.1289 - acc: 0.3514 - val_loss: 3.0996 - val_acc: 0.3540\n",
      "Epoch 12/20\n",
      "7982/7982 [==============================] - 2s 190us/step - loss: 3.0759 - acc: 0.3514 - val_loss: 3.0473 - val_acc: 0.3540\n",
      "Epoch 13/20\n",
      "7982/7982 [==============================] - 1s 184us/step - loss: 3.0246 - acc: 0.3514 - val_loss: 2.9963 - val_acc: 0.3540\n",
      "Epoch 14/20\n",
      "7982/7982 [==============================] - 2s 194us/step - loss: 2.9753 - acc: 0.3514 - val_loss: 2.9479 - val_acc: 0.3540\n",
      "Epoch 15/20\n",
      "7982/7982 [==============================] - 2s 189us/step - loss: 2.9283 - acc: 0.3514 - val_loss: 2.9013 - val_acc: 0.3540\n",
      "Epoch 16/20\n",
      "7982/7982 [==============================] - 2s 191us/step - loss: 2.8836 - acc: 0.3514 - val_loss: 2.8570 - val_acc: 0.3540\n",
      "Epoch 17/20\n",
      "7982/7982 [==============================] - 1s 187us/step - loss: 2.8406 - acc: 0.3514 - val_loss: 2.8144 - val_acc: 0.3540\n",
      "Epoch 18/20\n",
      "7982/7982 [==============================] - 1s 187us/step - loss: 2.7999 - acc: 0.3514 - val_loss: 2.7743 - val_acc: 0.3540\n",
      "Epoch 19/20\n",
      "7982/7982 [==============================] - 2s 196us/step - loss: 2.7611 - acc: 0.3514 - val_loss: 2.7361 - val_acc: 0.3540\n",
      "Epoch 20/20\n",
      "7982/7982 [==============================] - 2s 199us/step - loss: 2.7249 - acc: 0.3514 - val_loss: 2.7005 - val_acc: 0.3540\n",
      "2246/2246 [==============================] - 0s 173us/step\n"
     ]
    }
   ],
   "source": [
    "model = models.Sequential()\n",
    "model.add(layers.Dense(64, activation='relu', input_shape=(10000,)))\n",
    "model.add(layers.Dense(4, activation='relu'))\n",
    "model.add(layers.Dense(46, activation='softmax'))\n",
    "\n",
    "model.compile(optimizer='rmsprop',\n",
    "             loss='categorical_crossentropy',\n",
    "             metrics=['accuracy'])\n",
    "model.fit(partial_x_train,\n",
    "         partial_y_train,\n",
    "         epochs=20,\n",
    "         batch_size=128,\n",
    "         validation_data=(x_val, y_val))\n",
    "\n",
    "results=model.evaluate(x_test, one_hot_test_labels)"
   ]
  },
  {
   "cell_type": "code",
   "execution_count": null,
   "metadata": {},
   "outputs": [],
   "source": []
  }
 ],
 "metadata": {
  "kernelspec": {
   "display_name": "Python 3",
   "language": "python",
   "name": "python3"
  },
  "language_info": {
   "codemirror_mode": {
    "name": "ipython",
    "version": 3
   },
   "file_extension": ".py",
   "mimetype": "text/x-python",
   "name": "python",
   "nbconvert_exporter": "python",
   "pygments_lexer": "ipython3",
   "version": "3.7.3"
  }
 },
 "nbformat": 4,
 "nbformat_minor": 2
}
